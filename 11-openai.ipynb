{
 "cells": [
  {
   "cell_type": "markdown",
   "metadata": {},
   "source": [
    "## Classificação de documentos usando OpenAI GPT-4o-mini\n",
    "\n",
    "Neste notebook, vamos usar o modelo de linguagem GPT-4o-mini da OpenAI para classificar documentos em categorias. O GPT-4o-mini é um modelo de linguagem de última geração que pode ser usado para uma variedade de tarefas de processamento de linguagem natural, incluindo classificação de texto.\n",
    "\n",
    "Começamos carregando o modelo GPT-4o-mini pré-treinado da OpenAI usando a biblioteca `openai` e, em seguida, usamos o modelo para classificar documentos em categorias. Para isso, fornecemos ao modelo um documento de entrada e ele nos dá uma lista de categorias possíveis para o documento.\n",
    "\n",
    "Para acessar o modelo GPT-4o-mini, você precisará de uma chave de API da OpenAI. Esse notebook já disponibiliza uma chave de API para você usar, mas você também pode obter sua própria chave de API se desejar. Lembre-se que liberar a chave de API é uma prática insegura, então não estamos fazendo isso pelo fluxo ideal."
   ]
  },
  {
   "cell_type": "code",
   "execution_count": 2,
   "metadata": {},
   "outputs": [],
   "source": [
    "# chave liberada para uso até o final do semestre, com algumas restrições\n",
    "import os\n",
    "from dotenv import load_dotenv\n",
    "# carregando a biblioteca da openai\n",
    "from openai import OpenAI\n",
    "from pydantic import BaseModel\n",
    "import pandas as pd\n",
    "\n",
    "# Carrega o arquivo .env\n",
    "load_dotenv()\n",
    "\n",
    "client = OpenAI()"
   ]
  },
  {
   "cell_type": "code",
   "execution_count": 3,
   "metadata": {},
   "outputs": [
    {
     "name": "stdout",
     "output_type": "stream",
     "text": [
      "**Cordel da Ciência de Dados no Direito**\n",
      "\n",
      "No mundo virtual em que vivo,  \n",
      "A ciência desponta e reluz,  \n",
      "No Direito, uma nova prática,  \n",
      "Transforma a lei, traz nova luz.  \n",
      "\n",
      "Dados dançam, em trovas sutil,  \n",
      "E o advogado, astuto e audaz,  \n",
      "Com algoritmos faz o perfil,  \n",
      "Decifra o futuro, implacável e eficaz.  \n",
      "\n",
      "Na Justiça, as cifras ensinam,  \n",
      "Padrões e tendências a explorar,  \n",
      "Com análise e lógica divina,  \n",
      "Sentenças justas a se firmar.  \n",
      "\n",
      "Habeas data, é hora de ver,  \n",
      "O sigilo e os dados a fluir,  \n",
      "Com ética à frente a guiar,  \n",
      "O Direito vem só a evoluir.  \n",
      "\n",
      "Em estações de aprendizado,  \n",
      "Estudamos o que há de novo,  \n",
      "Na era digital, tão necessitado,  \n",
      "A Ciência de Dados é o nosso povo.  \n",
      "\n",
      "Por isso, advogados, atenção,  \n",
      "A tecnologia não vai parar,  \n",
      "Com dados em mãos, em colaboração,  \n",
      "A Justiça se faz mais a brilhar.  \n"
     ]
    }
   ],
   "source": [
    "\n",
    "# testando se a chave está funcionando\n",
    "completion = client.chat.completions.create(\n",
    "  model=\"gpt-4o-mini\",\n",
    "  messages=[\n",
    "    {\"role\": \"system\", \"content\": \"You are a helpful assistant.\"},\n",
    "    {\n",
    "      \"role\": \"user\",\n",
    "      \"content\": \"Escreva um cordel curto sobre a disciplina de Ciência de Dados no Direito.\"\n",
    "    }\n",
    "  ]\n",
    ")\n",
    "\n",
    "print(completion.choices[0].message.content)"
   ]
  },
  {
   "cell_type": "markdown",
   "metadata": {},
   "source": [
    "## Controlando a temperatura\n",
    "\n",
    "O modelo GPT-4o-mini tem um parâmetro chamado \"temperatura\" que controla a aleatoriedade das previsões do modelo. Quanto maior a temperatura, mais aleatórias as previsões do modelo serão. Vamos ver um exemplo com temperatura igual a 1, rodando duas vezes o mesmo pedido."
   ]
  },
  {
   "cell_type": "code",
   "execution_count": 3,
   "metadata": {},
   "outputs": [
    {
     "name": "stdout",
     "output_type": "stream",
     "text": [
      "O tesouro do jurista em pesquisas que envolvem ciência de dados no direito reside na sua expertise em interpretar e aplicar normas jurídicas, contextualizando os resultados estatísticos dentro do arcabouço legal e ético pertinente.\n"
     ]
    }
   ],
   "source": [
    "teste1 = client.chat.completions.create(\n",
    "  model=\"gpt-4o-mini\",\n",
    "  messages=[\n",
    "    {\"role\": \"system\", \"content\": \"You are a helpful assistant.\"},\n",
    "    {\n",
    "      \"role\": \"user\",\n",
    "      \"content\": \"Qual o tesouro do jurista (ou seja, o diferencial quando comparado a um profissional da estatística, por exemplo) em pesquisas que envolvem ciência de dados no direito? Responda em uma frase.\"\n",
    "    }\n",
    "  ],\n",
    "  temperature=1.0\n",
    ")\n",
    "\n",
    "print(teste1.choices[0].message.content)"
   ]
  },
  {
   "cell_type": "markdown",
   "metadata": {},
   "source": [
    "Agora, rodamos novamente o mesmo pedido. Veja que o resultado é diferente!"
   ]
  },
  {
   "cell_type": "code",
   "execution_count": 4,
   "metadata": {},
   "outputs": [
    {
     "name": "stdout",
     "output_type": "stream",
     "text": [
      "O tesouro do jurista em pesquisas que envolvem ciência de dados no direito reside na sua capacidade de interpretar normas legais, contextos jurídicos e implicações éticas, além de aplicar conhecimentos jurídicos para analisar e contextualizar dados de forma crítica e fundamentada.\n"
     ]
    }
   ],
   "source": [
    "teste2 = client.chat.completions.create(\n",
    "  model=\"gpt-4o-mini\",\n",
    "  messages=[\n",
    "    {\"role\": \"system\", \"content\": \"You are a helpful assistant.\"},\n",
    "    {\n",
    "      \"role\": \"user\",\n",
    "      \"content\": \"Qual o tesouro do jurista (ou seja, o diferencial quando comparado a um profissional da estatística, por exemplo) em pesquisas que envolvem ciência de dados no direito? Responda em uma frase.\"\n",
    "    }\n",
    "  ],\n",
    "  temperature=1.0\n",
    ")\n",
    "\n",
    "print(teste2.choices[0].message.content)"
   ]
  },
  {
   "cell_type": "markdown",
   "metadata": {},
   "source": [
    "Agora, vamos rodar o mesmo pedido, mas com temperatura igual a 0, duas vezes. O que você acha que vai acontecer?"
   ]
  },
  {
   "cell_type": "code",
   "execution_count": 5,
   "metadata": {},
   "outputs": [
    {
     "name": "stdout",
     "output_type": "stream",
     "text": [
      "O tesouro do jurista em pesquisas que envolvem ciência de dados no direito reside na sua capacidade de interpretar e contextualizar dados dentro do arcabouço legal e ético, garantindo que as análises respeitem os princípios jurídicos e os direitos fundamentais.\n"
     ]
    }
   ],
   "source": [
    "teste3 = client.chat.completions.create(\n",
    "  model=\"gpt-4o-mini\",\n",
    "  messages=[\n",
    "    {\"role\": \"system\", \"content\": \"You are a helpful assistant.\"},\n",
    "    {\n",
    "      \"role\": \"user\",\n",
    "      \"content\": \"Qual o tesouro do jurista (ou seja, o diferencial quando comparado a um profissional da estatística, por exemplo) em pesquisas que envolvem ciência de dados no direito? Responda em uma frase.\"\n",
    "    }\n",
    "  ],\n",
    "  temperature=0.0\n",
    ")\n",
    "\n",
    "print(teste3.choices[0].message.content)"
   ]
  },
  {
   "cell_type": "code",
   "execution_count": 6,
   "metadata": {},
   "outputs": [
    {
     "name": "stdout",
     "output_type": "stream",
     "text": [
      "O tesouro do jurista em pesquisas que envolvem ciência de dados no direito reside na sua capacidade de interpretar e contextualizar normas jurídicas, garantindo que a análise estatística seja aplicada de forma ética e relevante ao sistema legal.\n"
     ]
    }
   ],
   "source": [
    "teste4 = client.chat.completions.create(\n",
    "  model=\"gpt-4o-mini\",\n",
    "  messages=[\n",
    "    {\"role\": \"system\", \"content\": \"You are a helpful assistant.\"},\n",
    "    {\n",
    "      \"role\": \"user\",\n",
    "      \"content\": \"Qual o tesouro do jurista (ou seja, o diferencial quando comparado a um profissional da estatística, por exemplo) em pesquisas que envolvem ciência de dados no direito? Responda em uma frase.\"\n",
    "    }\n",
    "  ],\n",
    "  temperature=0.0\n",
    ")\n",
    "\n",
    "print(teste4.choices[0].message.content)"
   ]
  },
  {
   "cell_type": "markdown",
   "metadata": {},
   "source": [
    "## Desenvolvendo prompts para anotação de documentos jurídicos\n",
    "\n",
    "A anotação automática de documentos jurídicos utilizando modelos de linguagem aumenta significativamente a eficiência na anotação de documentos. No entanto, a qualidade dos resultados pode variar dependendo da formulação do prompt utilizado.\n",
    "\n",
    "Trata-se de uma área em desenvolvimento, então ainda não temos uma resposta final sobre como formular os prompts. No entanto, algumas dicas podem ser úteis:\n",
    "\n",
    "1. **Escreva instruções claras e objetivas**: O prompt deve ser o mais claro e específico possível. Experimente verificar com você ou outra pessoa se as instruções são compreensíveis e diretas.\n",
    "\n",
    "2. **Deixe claro quem é o assistente e qual seu papel**: O modelo de linguagem é um assistente, e é importante deixar claro qual é o papel dele na tarefa. Por exemplo, \"você é um assistente jurídico que realiza a análise de petições iniciais em processos cíveis, resumindo as informações mais importantes para posterior avaliação de profissionais da advocacia\".\n",
    "\n",
    "3. **Descreva o que o modelo deve esperar de entrada**: Sempre que necessário, forneça contexto relevante ao modelo. Isso pode incluir a descrição do tipo de documento, o objetivo da anotação e as características específicas do caso em questão. Por exemplo, uma petição inicial de um processo é diferente de um tweet.\n",
    "\n",
    "4. **Especifique o formato de saída**: Indicar o formato exato da resposta esperada é uma boa prática. Geralmente, pediremos para que a resposta seja em um JSON, e temos um parâmetro para forçar esse comportamento no modelo.\n",
    "\n",
    "5. **Inclua exemplos**: Fornecer exemplos no prompt ajuda o modelo a entender o formato e o conteúdo esperado na resposta. O nome técnico disso é \"*one shot*\" ou \"*few shot*\" *learning*.\n",
    "\n",
    "6. **Teste com alguns casos**: Sempre verifique se o prompt está funcionando com alguns casos antes de rodar para uma amostra grande, e faça ajustes caso necessário.\n",
    "\n",
    "7. **Pedir um resumo**: Para tarefas complexas, pode ser útil pedir para o modelo de linguagem resumir a resposta em um parágrafo ou algumas frases, **antes** de realizar uma anotação em categorias. Isso pode aumentar a qualidade da resposta final.\n",
    "\n",
    "\n",
    "**Obs**: você pode usar o ChatGPT para ajudar na criação de prompts. Isso economiza tempo e cria prompts eficazes. "
   ]
  },
  {
   "cell_type": "code",
   "execution_count": 7,
   "metadata": {},
   "outputs": [],
   "source": [
    "prompt_ruim = \"\"\"\n",
    "Classifique o documento abaixo nessas variáveis:\n",
    "\n",
    "- faz parte do escopo?\n",
    "- quais drogas estão envolvidas?\n",
    "- quantidade de maconha em gramas\n",
    "- quantidade de cocaína em gramas\n",
    "- quantidade de crack em gramas\n",
    "- sexo da pessoa acusada\n",
    "- reincidente\n",
    "- decisão\n",
    "- tipo de pena\n",
    "- tempo da pena\n",
    "\"\"\""
   ]
  },
  {
   "cell_type": "code",
   "execution_count": 8,
   "metadata": {},
   "outputs": [],
   "source": [
    "prompt_otimizado = \"\"\"\n",
    "Você é um assistente de inteligência artificial que auxilia na anotação de sentenças judiciais do Tribunal de Justiça de São Paulo em processos envolvendo tráfico de drogas.\n",
    "\n",
    "Você receberá o texto da sentença e deverá retornar um arquivo JSON, seguindo as regras abaixo:\n",
    "\n",
    "- O processo faz parte do escopo da pesquisa? O caso deve: Ser um caso relacionado a tráfico de drogas; Envolver porte de maconha, crack ou cocaína; Envolver apenas uma pessoa acusada.\n",
    "- Quantidade de maconha em gramas: Preencha apenas os números. Coloque 0 se o caso não envolve essa droga. Use \",\" como separador decimal. Se a decisão não menciona a quantidade em gramas, faça a conversão, seguindo a regra: 1 porção = 2 gramas.\n",
    "- Quantidade de cocaína em gramas: Preencha apenas os números. Coloque 0 se o caso não envolve essa droga. Use \",\" como separador decimal. Se a decisão não menciona a quantidade em gramas, faça a conversão, seguindo a regra: 1 porção ou pino = 0,5 grama.\n",
    "- Quantidade de crack em gramas: Preencha apenas os números. Coloque 0 se o caso não envolve essa droga. Use \",\" como separador decimal. Se a decisão não menciona a quantidade em gramas, faça a conversão, seguindo a regra: 1 porção = 0,1 grama.\n",
    "- Decisão: pode ser procedente (condenação), improcedente / punibilidade extinta, ou parcialmente procedente / advertência.\n",
    "- Tipo de pena: pode ser fechado, semiaberto ou aberto.\n",
    "- Tempo da pena (em meses): Preencha apenas os números. Converta o tempo em meses. Por exemplo, 2 anos e 7 meses = 31 meses.\n",
    "\n",
    "Retorne um arquivo JSON com as seguintes informações:\n",
    "\n",
    "{\n",
    " \"escopo\": \"sim/não\",\n",
    " \"maconha\": \"sim/não\",\n",
    " \"cocaina\": \"sim/não\",\n",
    " \"crack\": \"sim/não\",\n",
    " \"qtd_maconha\": 0,\n",
    " \"qtd_cocaina\": 0,\n",
    " \"qtd_crack\": 0,\n",
    " \"sexo\": \"masculino/feminino/não informado\",\n",
    " \"reincidente\": \"sim/não/não informado\",\n",
    " \"decisao\": \"procedente/improcedente/parcialmente procedente\",\n",
    " \"tipo_pena\": \"fechado/semiaberto/aberto\",\n",
    " \"tempo\": 0\n",
    "}\n",
    "\"\"\""
   ]
  },
  {
   "cell_type": "markdown",
   "metadata": {},
   "source": [
    "### Aplicando prompt em um caso"
   ]
  },
  {
   "cell_type": "code",
   "execution_count": 9,
   "metadata": {},
   "outputs": [
    {
     "name": "stdout",
     "output_type": "stream",
     "text": [
      "<class 'pandas.core.frame.DataFrame'>\n",
      "RangeIndex: 991 entries, 0 to 990\n",
      "Data columns (total 14 columns):\n",
      " #   Column            Non-Null Count  Dtype  \n",
      "---  ------            --------------  -----  \n",
      " 0   file              991 non-null    object \n",
      " 1   processo          991 non-null    object \n",
      " 2   pagina            991 non-null    int64  \n",
      " 3   hora_coleta       0 non-null      float64\n",
      " 4   duplicado         991 non-null    bool   \n",
      " 5   classe            990 non-null    object \n",
      " 6   assunto           991 non-null    object \n",
      " 7   magistrado        991 non-null    object \n",
      " 8   comarca           991 non-null    object \n",
      " 9   foro              991 non-null    object \n",
      " 10  vara              991 non-null    object \n",
      " 11  disponibilizacao  991 non-null    object \n",
      " 12  julgado           991 non-null    object \n",
      " 13  cd_doc            991 non-null    object \n",
      "dtypes: bool(1), float64(1), int64(1), object(11)\n",
      "memory usage: 101.7+ KB\n"
     ]
    }
   ],
   "source": [
    "drogas = pd.read_csv(\"https://github.com/jtrecenti/main-cdad2/releases/download/data/drogas.csv\")\n",
    "\n",
    "drogas.info()"
   ]
  },
  {
   "cell_type": "code",
   "execution_count": 10,
   "metadata": {},
   "outputs": [
    {
     "name": "stdout",
     "output_type": "stream",
     "text": [
      "TRIBUNAL DE JUSTIÇA DO ESTADO DE SÃO PAULO COMARCA de Boituva Foro de Boituva 1ª Vara Rua Manoel dos Santos Freire, 161, Centro - CEP 18550-000, Fone: (15) 3263-2120, Boituva-SP - E-mail: boituva1@tjsp.jus.br 1500586-02.2023.8.26.0569 - lauda SENTENÇA Processo nº: 1500586-02.2023.8.26.0569 Classe - Assunto Ação Penal - Procedimento Ordinário - Tráfico de Drogas e Condutas Afins Autor: Justiça Pública Réu: ROSANA LEMES DE SOUZA Juiz(a) de Direito: Dr(a). Liliana Regina de Araujo Heidorn Abdala Vistos. ROSANA LEMES DE SOUZA foi denunciada como incursa no artigo 33, caput, c/c art. 40, inciso III, ambos da Lei 11.343/06, porque no dia 01 de julho de 2023, aproximadamente às 08h00min, na Estrada Tatuí/Iperó, Área Rural, Estabelecimento Prisional, na cidade de Iperó e comarca de Boituva, ROSANA LEMES DE SOUZA, qualificada a fls. 14 e indiciada a fls. 62, adquiriu e trazia consigo, para fornecer e entregar ao consumo de terceiros, 98,13g (noventa e oito gramas e treze centigramas) líquidos de maconha, acondicionados em 1 (uma) porção, conforme laudo pericial de fls. 31/33 e 106/108, substância entorpecente que determina dependência física e psíquica, sem autorização legal e regulamentar para tanto. Segundo o apurado, a denunciada estava no estabelecimento prisional de Iperó para realização de visitas, quando foi submetida à revista. Ao verificar o que tinha no inteiro de um pacote que a denunciada trazia consigo, foi localizada 1 (uma) porção de maconha no interior de 1 (um) absorvente. As circunstâncias em que se deram o flagrante, evidenciam a prática do tráfico de entorpecentes. Presa em flagrante, a ré foi beneficiada com a liberdade provisória mediante o cumprimento das medidas cautelares previstas no artigo 319, do C.P.P. (fl.89/91). Regularmente notificada (fl. 158), a ré apresentou defesa preliminar (fls.141/144). A denúncia foi recebida (fl. 150). Regularmente citada, foi realizada a instrução processual, com oitiva de duas testemunhas em comum e o interrogatório\n"
     ]
    }
   ],
   "source": [
    "processo = '15005860220238260569'\n",
    "\n",
    "julgado = drogas[drogas['processo']==processo]['julgado'].iloc[0]\n",
    "\n",
    "print(julgado[:2000])"
   ]
  },
  {
   "cell_type": "code",
   "execution_count": 11,
   "metadata": {},
   "outputs": [
    {
     "name": "stdout",
     "output_type": "stream",
     "text": [
      "prisional, nos termos do artigo 40, inciso III, da Lei 11.343/2006, fixando-a definitivamente em 01 (um) ano, 11 (onze) meses e 10 (dez) dias, e 193 (cento e noventa e três) dias-multa. Vislumbro que a acusada faz jus ao benefício previsto nos artigos 43 e nos seguintes do Código Penal, substituo a pena privativa de liberdade em prestação de serviço à comunidade e 10 dias multa, nos termos do artigo 44, § 2º, do Código Penal, que será executada perante o Juízo das Execuções Criminais. Em caso de descumprimento, fixo o regime aberto para o início do cumprimento da pena. Pelo exposto JULGO PROCEDENTE a presente pretensão punitiva, e o faço para CONDENAR a ré ROSANA LEMES DE SOUZA à pena de 01 (um) ano, 11 (onze) meses e 10 (dez) dias, e 193 (cento e noventa e três) dias-multa, substituída por prestação de serviço à comunidade, na forma acima disposta, por infração ao artigo 33, caput, c/c art. 40, inciso III, ambos da Lei 11.343/06. Defiro recurso em liberdade. São parcas as informações acerca da situação financeira da ré, por isso arbitro o valor do dia-multa no seu mínimo legal, calculado sobre o salário mínimo da data dos fatos e atualizado até o dia do efetivo pagamento. Nos termos do artigo 32, parágrafos 1º e 2º, da Lei 11.343/06, AUTORIZO a incineração dos entorpecentes apreendidos, se ainda não providenciado. Condeno a acusada ao pagamento das custas equivalentes a 100 UFESP's, nos termos do artigo 4º, inciso III, item 5, § 9º, alínea “a” da Lei nº 11.608, de 29 de dezembro de 2003, obrigação que fica suspensa em atenção ao disposto nos artigos 11 e 12 da Lei nº 1.060/50, posto que beneficiários da justiça gratuita, pois defendidos por força do convênio Defensoria Pública/OAB. Arbitro os honorários advocatícios no valor máximo previsto em convênio. Expeça-se a devida certidão. Publicada em audiência. Saem todos intimados. Cumpra-se. Boituva, 19 de agosto de 2024. DOCUMENTO ASSINADO DIGITALMENTE NOS TERMOS DA LEI 11.419/2006, CONFORME IMPRESSÃO À MARGEM DIREITA\n"
     ]
    }
   ],
   "source": [
    "print(julgado[-2000:])"
   ]
  },
  {
   "cell_type": "code",
   "execution_count": 12,
   "metadata": {},
   "outputs": [],
   "source": [
    "def classificar_decisao (prompt, julgado):\n",
    "  completion = client.chat.completions.create(\n",
    "    model=\"gpt-4o-mini\",\n",
    "    messages=[\n",
    "      {\"role\": \"system\", \"content\": prompt},\n",
    "      {\"role\": \"user\", \"content\": julgado}\n",
    "    ],\n",
    "    temperature=0.0\n",
    "  )\n",
    "  return completion.choices[0].message.content"
   ]
  },
  {
   "cell_type": "code",
   "execution_count": 13,
   "metadata": {},
   "outputs": [
    {
     "name": "stdout",
     "output_type": "stream",
     "text": [
      "- faz parte do escopo? Sim\n",
      "- quais drogas estão envolvidas? Maconha\n",
      "- quantidade de maconha em gramas: 98,13g\n",
      "- quantidade de cocaína em gramas: 0g\n",
      "- quantidade de crack em gramas: 0g\n",
      "- sexo da pessoa acusada: Feminino\n",
      "- reincidente: Não\n",
      "- decisão: Condenação\n",
      "- tipo de pena: Prestação de serviço à comunidade\n",
      "- tempo da pena: 1 ano, 11 meses e 10 dias\n"
     ]
    }
   ],
   "source": [
    "res_ruim = classificar_decisao(prompt_ruim, julgado)\n",
    "\n",
    "print(res_ruim)"
   ]
  },
  {
   "cell_type": "code",
   "execution_count": 14,
   "metadata": {},
   "outputs": [
    {
     "name": "stdout",
     "output_type": "stream",
     "text": [
      "```json\n",
      "{\n",
      "  \"escopo\": \"sim\",\n",
      "  \"maconha\": \"sim\",\n",
      "  \"cocaina\": \"não\",\n",
      "  \"crack\": \"não\",\n",
      "  \"qtd_maconha\": 98,\n",
      "  \"qtd_cocaina\": 0,\n",
      "  \"qtd_crack\": 0,\n",
      "  \"sexo\": \"feminino\",\n",
      "  \"reincidente\": \"não\",\n",
      "  \"decisao\": \"procedente\",\n",
      "  \"tipo_pena\": \"aberto\",\n",
      "  \"tempo\": 23\n",
      "}\n",
      "```\n"
     ]
    }
   ],
   "source": [
    "res_otimizado = classificar_decisao(prompt_otimizado, julgado)\n",
    "\n",
    "print(res_otimizado)"
   ]
  },
  {
   "cell_type": "markdown",
   "metadata": {},
   "source": [
    "## Exercício:\n",
    "\n",
    "Teste o prompt otimizado para novos processos e compare com as classificações manuais"
   ]
  },
  {
   "cell_type": "code",
   "execution_count": null,
   "metadata": {},
   "outputs": [],
   "source": [
    "processo = '<processo aqui>'\n",
    "julgado = drogas[drogas['processo']==processo]['julgado'].iloc[0]\n",
    "\n",
    "classificar_decisao(prompt_otimizado, julgado)"
   ]
  },
  {
   "cell_type": "markdown",
   "metadata": {},
   "source": [
    "## Aula 05 até aqui \n",
    "\n",
    "---------------------------------\n",
    "\n",
    "## Aula 06"
   ]
  },
  {
   "cell_type": "markdown",
   "metadata": {},
   "source": [
    "Dá para melhorar um pouco mais ainda. Vamos forçar o resultado a um formato específico, que podemos transformar em um DataFrame python diretamente."
   ]
  },
  {
   "cell_type": "code",
   "execution_count": 17,
   "metadata": {},
   "outputs": [],
   "source": [
    "class JsonSchema(BaseModel):\n",
    "  escopo: str\n",
    "  maconha: str\n",
    "  cocaina: str\n",
    "  crack: str\n",
    "  qtd_maconha: float\n",
    "  qtd_cocaina: float\n",
    "  qtd_crack: float\n",
    "  sexo: str\n",
    "  reincidente: str\n",
    "  decisao: str\n",
    "  tipo_pena: str\n",
    "  tempo: float\n",
    "\n",
    "def classificar_decisao_df (prompt, julgado):\n",
    "  completion = client.beta.chat.completions.parse(\n",
    "    model=\"gpt-4o-mini\",\n",
    "    messages=[\n",
    "      {\"role\": \"system\", \"content\": prompt},\n",
    "      {\"role\": \"user\", \"content\": julgado}\n",
    "    ],\n",
    "    temperature=0.0,\n",
    "    response_format = JsonSchema\n",
    "  )\n",
    "  return completion.choices[0].message.parsed.dict()"
   ]
  },
  {
   "cell_type": "code",
   "execution_count": 18,
   "metadata": {},
   "outputs": [
    {
     "name": "stdout",
     "output_type": "stream",
     "text": [
      "{'escopo': 'sim', 'maconha': 'sim', 'cocaina': 'não', 'crack': 'não', 'qtd_maconha': 98.0, 'qtd_cocaina': 0.0, 'qtd_crack': 0.0, 'sexo': 'feminino', 'reincidente': 'não', 'decisao': 'procedente', 'tipo_pena': 'aberto', 'tempo': 22.0}\n"
     ]
    }
   ],
   "source": [
    "res_otimizado_df = classificar_decisao_df(prompt_otimizado, julgado)\n",
    "\n",
    "print(res_otimizado_df)"
   ]
  },
  {
   "cell_type": "markdown",
   "metadata": {},
   "source": [
    "É possível converter para um DataFrame diretamente, veja:"
   ]
  },
  {
   "cell_type": "code",
   "execution_count": 19,
   "metadata": {},
   "outputs": [
    {
     "data": {
      "text/html": [
       "<div>\n",
       "<style scoped>\n",
       "    .dataframe tbody tr th:only-of-type {\n",
       "        vertical-align: middle;\n",
       "    }\n",
       "\n",
       "    .dataframe tbody tr th {\n",
       "        vertical-align: top;\n",
       "    }\n",
       "\n",
       "    .dataframe thead th {\n",
       "        text-align: right;\n",
       "    }\n",
       "</style>\n",
       "<table border=\"1\" class=\"dataframe\">\n",
       "  <thead>\n",
       "    <tr style=\"text-align: right;\">\n",
       "      <th></th>\n",
       "      <th>escopo</th>\n",
       "      <th>maconha</th>\n",
       "      <th>cocaina</th>\n",
       "      <th>crack</th>\n",
       "      <th>qtd_maconha</th>\n",
       "      <th>qtd_cocaina</th>\n",
       "      <th>qtd_crack</th>\n",
       "      <th>sexo</th>\n",
       "      <th>reincidente</th>\n",
       "      <th>decisao</th>\n",
       "      <th>tipo_pena</th>\n",
       "      <th>tempo</th>\n",
       "    </tr>\n",
       "  </thead>\n",
       "  <tbody>\n",
       "    <tr>\n",
       "      <th>0</th>\n",
       "      <td>sim</td>\n",
       "      <td>sim</td>\n",
       "      <td>não</td>\n",
       "      <td>não</td>\n",
       "      <td>98.0</td>\n",
       "      <td>0.0</td>\n",
       "      <td>0.0</td>\n",
       "      <td>feminino</td>\n",
       "      <td>não</td>\n",
       "      <td>procedente</td>\n",
       "      <td>aberto</td>\n",
       "      <td>22.0</td>\n",
       "    </tr>\n",
       "  </tbody>\n",
       "</table>\n",
       "</div>"
      ],
      "text/plain": [
       "  escopo maconha cocaina crack  qtd_maconha  qtd_cocaina  qtd_crack      sexo  \\\n",
       "0    sim     sim     não   não         98.0          0.0        0.0  feminino   \n",
       "\n",
       "  reincidente     decisao tipo_pena  tempo  \n",
       "0         não  procedente    aberto   22.0  "
      ]
     },
     "execution_count": 19,
     "metadata": {},
     "output_type": "execute_result"
    }
   ],
   "source": [
    "pd.DataFrame([res_otimizado_df])"
   ]
  },
  {
   "cell_type": "markdown",
   "metadata": {},
   "source": [
    "Agora, podemos fazer isso para vários casos, com um laço:"
   ]
  },
  {
   "cell_type": "code",
   "execution_count": 20,
   "metadata": {},
   "outputs": [
    {
     "name": "stdout",
     "output_type": "stream",
     "text": [
      "00029796520178260542\n",
      "15289122520238260228\n",
      "15071822120248260228\n",
      "15003527020248260347\n",
      "15027831120238260542\n",
      "15010156220248260559\n"
     ]
    }
   ],
   "source": [
    "casos = [\n",
    "  '00029796520178260542',\n",
    "  '15289122520238260228',\n",
    "  '15071822120248260228',\n",
    "  '15003527020248260347',\n",
    "  '15027831120238260542',\n",
    "  '15010156220248260559'\n",
    "]\n",
    "\n",
    "resultados = []\n",
    "\n",
    "for caso in casos:\n",
    "  print(caso)\n",
    "  txt_caso = drogas[drogas['processo'] == caso]['julgado'].iloc[0]\n",
    "  res = classificar_decisao_df(prompt_otimizado, txt_caso)\n",
    "  resultados.append(res)\n",
    "\n",
    "df_resultados = pd.DataFrame(resultados)"
   ]
  },
  {
   "cell_type": "code",
   "execution_count": 21,
   "metadata": {},
   "outputs": [
    {
     "data": {
      "text/html": [
       "<div>\n",
       "<style scoped>\n",
       "    .dataframe tbody tr th:only-of-type {\n",
       "        vertical-align: middle;\n",
       "    }\n",
       "\n",
       "    .dataframe tbody tr th {\n",
       "        vertical-align: top;\n",
       "    }\n",
       "\n",
       "    .dataframe thead th {\n",
       "        text-align: right;\n",
       "    }\n",
       "</style>\n",
       "<table border=\"1\" class=\"dataframe\">\n",
       "  <thead>\n",
       "    <tr style=\"text-align: right;\">\n",
       "      <th></th>\n",
       "      <th>escopo</th>\n",
       "      <th>maconha</th>\n",
       "      <th>cocaina</th>\n",
       "      <th>crack</th>\n",
       "      <th>qtd_maconha</th>\n",
       "      <th>qtd_cocaina</th>\n",
       "      <th>qtd_crack</th>\n",
       "      <th>sexo</th>\n",
       "      <th>reincidente</th>\n",
       "      <th>decisao</th>\n",
       "      <th>tipo_pena</th>\n",
       "      <th>tempo</th>\n",
       "    </tr>\n",
       "  </thead>\n",
       "  <tbody>\n",
       "    <tr>\n",
       "      <th>0</th>\n",
       "      <td>sim</td>\n",
       "      <td>sim</td>\n",
       "      <td>sim</td>\n",
       "      <td>não</td>\n",
       "      <td>63.0</td>\n",
       "      <td>7.0</td>\n",
       "      <td>0.0</td>\n",
       "      <td>masculino</td>\n",
       "      <td>sim</td>\n",
       "      <td>parcialmente procedente</td>\n",
       "      <td>fechado</td>\n",
       "      <td>84.0</td>\n",
       "    </tr>\n",
       "    <tr>\n",
       "      <th>1</th>\n",
       "      <td>sim</td>\n",
       "      <td>sim</td>\n",
       "      <td>sim</td>\n",
       "      <td>não</td>\n",
       "      <td>3.0</td>\n",
       "      <td>11.0</td>\n",
       "      <td>0.0</td>\n",
       "      <td>masculino</td>\n",
       "      <td>não</td>\n",
       "      <td>procedente</td>\n",
       "      <td>fechado</td>\n",
       "      <td>32.0</td>\n",
       "    </tr>\n",
       "    <tr>\n",
       "      <th>2</th>\n",
       "      <td>sim</td>\n",
       "      <td>sim</td>\n",
       "      <td>sim</td>\n",
       "      <td>não</td>\n",
       "      <td>51.4</td>\n",
       "      <td>18.0</td>\n",
       "      <td>0.0</td>\n",
       "      <td>masculino</td>\n",
       "      <td>não</td>\n",
       "      <td>procedente</td>\n",
       "      <td>aberto</td>\n",
       "      <td>20.0</td>\n",
       "    </tr>\n",
       "    <tr>\n",
       "      <th>3</th>\n",
       "      <td>sim</td>\n",
       "      <td>não</td>\n",
       "      <td>sim</td>\n",
       "      <td>não</td>\n",
       "      <td>0.0</td>\n",
       "      <td>13.0</td>\n",
       "      <td>0.0</td>\n",
       "      <td>masculino</td>\n",
       "      <td>não</td>\n",
       "      <td>procedente</td>\n",
       "      <td>aberto</td>\n",
       "      <td>8.0</td>\n",
       "    </tr>\n",
       "    <tr>\n",
       "      <th>4</th>\n",
       "      <td>sim</td>\n",
       "      <td>sim</td>\n",
       "      <td>sim</td>\n",
       "      <td>sim</td>\n",
       "      <td>6.0</td>\n",
       "      <td>9.0</td>\n",
       "      <td>4.0</td>\n",
       "      <td>masculino</td>\n",
       "      <td>não</td>\n",
       "      <td>procedente</td>\n",
       "      <td>aberto</td>\n",
       "      <td>20.0</td>\n",
       "    </tr>\n",
       "    <tr>\n",
       "      <th>5</th>\n",
       "      <td>sim</td>\n",
       "      <td>sim</td>\n",
       "      <td>sim</td>\n",
       "      <td>não</td>\n",
       "      <td>37.0</td>\n",
       "      <td>12.0</td>\n",
       "      <td>0.0</td>\n",
       "      <td>masculino</td>\n",
       "      <td>não</td>\n",
       "      <td>parcialmente procedente</td>\n",
       "      <td>aberto</td>\n",
       "      <td>32.0</td>\n",
       "    </tr>\n",
       "  </tbody>\n",
       "</table>\n",
       "</div>"
      ],
      "text/plain": [
       "  escopo maconha cocaina crack  qtd_maconha  qtd_cocaina  qtd_crack  \\\n",
       "0    sim     sim     sim   não         63.0          7.0        0.0   \n",
       "1    sim     sim     sim   não          3.0         11.0        0.0   \n",
       "2    sim     sim     sim   não         51.4         18.0        0.0   \n",
       "3    sim     não     sim   não          0.0         13.0        0.0   \n",
       "4    sim     sim     sim   sim          6.0          9.0        4.0   \n",
       "5    sim     sim     sim   não         37.0         12.0        0.0   \n",
       "\n",
       "        sexo reincidente                  decisao tipo_pena  tempo  \n",
       "0  masculino         sim  parcialmente procedente   fechado   84.0  \n",
       "1  masculino         não               procedente   fechado   32.0  \n",
       "2  masculino         não               procedente    aberto   20.0  \n",
       "3  masculino         não               procedente    aberto    8.0  \n",
       "4  masculino         não               procedente    aberto   20.0  \n",
       "5  masculino         não  parcialmente procedente    aberto   32.0  "
      ]
     },
     "execution_count": 21,
     "metadata": {},
     "output_type": "execute_result"
    }
   ],
   "source": [
    "df_resultados"
   ]
  },
  {
   "cell_type": "markdown",
   "metadata": {},
   "source": [
    "Finalmente, podemos salvar o resultado em um arquivo CSV:"
   ]
  },
  {
   "cell_type": "code",
   "execution_count": 22,
   "metadata": {},
   "outputs": [],
   "source": [
    "df_resultados.to_csv(\"resultados.csv\", index = False)"
   ]
  }
 ],
 "metadata": {
  "kernelspec": {
   "display_name": "Python 3 (ipykernel)",
   "language": "python",
   "name": "python3"
  },
  "language_info": {
   "codemirror_mode": {
    "name": "ipython",
    "version": 3
   },
   "file_extension": ".py",
   "mimetype": "text/x-python",
   "name": "python",
   "nbconvert_exporter": "python",
   "pygments_lexer": "ipython3",
   "version": "3.9.19"
  }
 },
 "nbformat": 4,
 "nbformat_minor": 2
}
